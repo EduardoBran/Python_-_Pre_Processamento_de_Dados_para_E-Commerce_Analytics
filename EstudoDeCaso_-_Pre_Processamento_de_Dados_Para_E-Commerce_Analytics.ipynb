{
 "cells": [
  {
   "cell_type": "markdown",
   "id": "02155ffe",
   "metadata": {},
   "source": [
    "# <font color='blue'><u>Estudo de Caso</u></font>\n",
    "\n",
    "## <font color='blue'>Pré Processamento de Dados Para E-Commerce Analytics</font>"
   ]
  },
  {
   "cell_type": "markdown",
   "id": "baf2c36f",
   "metadata": {},
   "source": [
    "#### Obs: Estaremos utilizando a mesma base de dados para trabalhar em um grande projeto de Ciência de Dados distribuído em 3 capítulos:\n",
    "\n",
    "- Capítulo 4 (Análise Exploratória de Dados) \n",
    "- Capítulo 5 (Engenharia de Atributos)     \n",
    "- Capítulo 6 (Pré-Processamento de Dados)   -> <strong>Atual</strong>"
   ]
  },
  {
   "cell_type": "markdown",
   "id": "4b3759d7",
   "metadata": {},
   "source": [
    "## Definição do Problema\n",
    "\n",
    "Uma empresa internacional de comércio eletrônico (E-commerce) que vende produtos eletrônicos deseja descobrir informações importantes de seu banco de dados de clientes.\n",
    "\n",
    "Os produtos ficam armazenados em um armazém na sede da empresa. Após concluir a compra no web site da empresa, o cliente recebe o produto em casa, em qualquer parte do mundo.  Os  produtos  são  enviados  de  Navio,  Avião  ou  Caminhão,  dependendo  da  região  de entrega.\n",
    "\n",
    "Em cada compra o cliente pode receber um desconto dependendo do peso do produto comprado. Cada cliente pode fazer chamadas ao suporte da empresa no caso de dúvidas ou problemas e após receber o produto o cliente pode deixar uma avaliação sobre a experiência de compra. O único dado pessoal sobre o cliente que está disponível é o gênero.\n",
    "\n",
    "Nosso trabalho neste <u>Estudo de Caso</u> é explorar os dados, compreender como estão organizados, detectar eventuais problemas e analisar os dados por diferentes perspectivas.\n",
    "\n",
    "Trabalharemos com dados fictícios que representam dados reais de uma empresa de E-Commerce. Os dados estão disponíveis na pasta \"dados\". <br><br><br>"
   ]
  },
  {
   "cell_type": "markdown",
   "id": "4c606368",
   "metadata": {},
   "source": [
    "## Dicionário de Dados<br><br>\n",
    "\n",
    "<table border=\"2\">\n",
    "  <tr>\n",
    "    <th>Nome da Coluna</th>\n",
    "    <th>Tipo de Dado</th>\n",
    "    <th>Descrição</th>\n",
    "  </tr>\n",
    "  <tr>\n",
    "    <td>ID</td>\n",
    "    <td>Int</td>\n",
    "    <td>ID exclusivo de cada transação.</td>\n",
    "  </tr>\n",
    "  <tr>\n",
    "    <td>corredor_armazem</td>\n",
    "    <td>Character(1)</td>\n",
    "    <td>Letra do corredor do armazém onde o produto está armazenado.</td>\n",
    "  </tr>\n",
    "  <tr>\n",
    "    <td>modo_envio</td>\n",
    "    <td>String</td>\n",
    "    <td>Modo de envio do produto.</td>\n",
    "  </tr>\n",
    "  <tr>\n",
    "    <td>numero_chamadas_cliente</td>\n",
    "    <td>Int</td>\n",
    "    <td>Número de vezes que o cliente acionou o suporte da empresa.</td>\n",
    "  </tr>\n",
    "  <tr>\n",
    "    <td>avaliacao_cliente</td>\n",
    "    <td>Int</td>\n",
    "    <td>Avaliação do cliente sobre a experiência de compra.</td>\n",
    "  </tr>\n",
    "  <tr>\n",
    "    <td>custo_produto</td>\n",
    "    <td>Int</td>\n",
    "    <td>Custo do produto.</td>\n",
    "  </tr>\n",
    "  <tr>\n",
    "    <td>compras_anteriores</td>\n",
    "    <td>Int</td>\n",
    "    <td>Número de vezes que o cliente fez uma compra na empresa.</td>\n",
    "  </tr>\n",
    "  <tr>\n",
    "    <td>prioridade_produto</td>\n",
    "    <td>String</td>\n",
    "    <td>Prioridade de entrega do produto.</td>\n",
    "  </tr>\n",
    "  <tr>\n",
    "    <td>genero</td>\n",
    "    <td>Character(1)</td>\n",
    "    <td>Gênero do cliente (F ou M).</td>\n",
    "  </tr>\n",
    "  <tr>\n",
    "    <td>desconto</td>\n",
    "    <td>Int</td>\n",
    "    <td>Desconto concedido na compra do produto.</td>\n",
    "  </tr>\n",
    "  <tr>\n",
    "    <td>peso_gramas</td>\n",
    "    <td>Int</td>\n",
    "    <td>Peso do produto.</td>\n",
    "  </tr>\n",
    "  <tr>\n",
    "    <td>entregue_no_prazo</td>\n",
    "    <td>Character(1)</td>\n",
    "    <td>Se o produto foi entregue no prazo, sendo 0 (não foi entregue no prazo) ou 1 (foi entregue no prazo).</td>\n",
    "  </tr>\n",
    "</table><br><br><br><br>"
   ]
  },
  {
   "cell_type": "code",
   "execution_count": 1,
   "id": "a26a9856",
   "metadata": {},
   "outputs": [],
   "source": [
    "# Imports\n",
    "import sklearn\n",
    "import numpy as np\n",
    "import pandas as pd\n",
    "from sklearn.preprocessing import LabelEncoder, MinMaxScaler, StandardScaler"
   ]
  },
  {
   "cell_type": "code",
   "execution_count": 2,
   "id": "09e5e587",
   "metadata": {},
   "outputs": [
    {
     "name": "stdout",
     "output_type": "stream",
     "text": [
      "Author: Data Science Academy\n",
      "\n",
      "numpy  : 1.26.4\n",
      "pandas : 2.2.1\n",
      "sklearn: 0.24.2\n",
      "\n"
     ]
    }
   ],
   "source": [
    "# Versões dos pacotes usados neste jupyter notebook\n",
    "%reload_ext watermark\n",
    "%watermark -a \"Data Science Academy\" --iversions"
   ]
  },
  {
   "cell_type": "markdown",
   "id": "fd7814bb",
   "metadata": {},
   "source": [
    "## <br>Carregando o Dataset (Gerado ao Final do Estudo de Caso 4)"
   ]
  },
  {
   "cell_type": "code",
   "execution_count": 3,
   "id": "eacd229d",
   "metadata": {},
   "outputs": [
    {
     "data": {
      "text/plain": [
       "(10643, 16)"
      ]
     },
     "execution_count": 3,
     "metadata": {},
     "output_type": "execute_result"
    }
   ],
   "source": [
    "# Carrega o dataset\n",
    "df = pd.read_csv('dados/df_eng.csv', index_col = 0)\n",
    "\n",
    "df.shape"
   ]
  },
  {
   "cell_type": "code",
   "execution_count": 4,
   "id": "34ff6f9f",
   "metadata": {},
   "outputs": [
    {
     "data": {
      "text/html": [
       "<div>\n",
       "<style scoped>\n",
       "    .dataframe tbody tr th:only-of-type {\n",
       "        vertical-align: middle;\n",
       "    }\n",
       "\n",
       "    .dataframe tbody tr th {\n",
       "        vertical-align: top;\n",
       "    }\n",
       "\n",
       "    .dataframe thead th {\n",
       "        text-align: right;\n",
       "    }\n",
       "</style>\n",
       "<table border=\"1\" class=\"dataframe\">\n",
       "  <thead>\n",
       "    <tr style=\"text-align: right;\">\n",
       "      <th></th>\n",
       "      <th>ID</th>\n",
       "      <th>corredor_armazem</th>\n",
       "      <th>modo_envio</th>\n",
       "      <th>numero_chamadas_cliente</th>\n",
       "      <th>avaliacao_cliente</th>\n",
       "      <th>custo_produto</th>\n",
       "      <th>compras_anteriores</th>\n",
       "      <th>prioridade_produto</th>\n",
       "      <th>genero</th>\n",
       "      <th>desconto</th>\n",
       "      <th>peso_gramas</th>\n",
       "      <th>entregue_no_prazo</th>\n",
       "      <th>performance_prioridade_envio</th>\n",
       "      <th>performance_modo_envio</th>\n",
       "      <th>faixa_desconto</th>\n",
       "      <th>performance_faixa_desconto</th>\n",
       "    </tr>\n",
       "  </thead>\n",
       "  <tbody>\n",
       "    <tr>\n",
       "      <th>0</th>\n",
       "      <td>1</td>\n",
       "      <td>D</td>\n",
       "      <td>Aviao</td>\n",
       "      <td>4</td>\n",
       "      <td>2</td>\n",
       "      <td>177</td>\n",
       "      <td>3</td>\n",
       "      <td>baixa</td>\n",
       "      <td>F</td>\n",
       "      <td>44</td>\n",
       "      <td>1233</td>\n",
       "      <td>1</td>\n",
       "      <td>Não Houve Atraso</td>\n",
       "      <td>Não Houve Atraso</td>\n",
       "      <td>Desconto Acima da Media</td>\n",
       "      <td>Entrega no Prazo com Desconto Acima da Media</td>\n",
       "    </tr>\n",
       "    <tr>\n",
       "      <th>1</th>\n",
       "      <td>2</td>\n",
       "      <td>F</td>\n",
       "      <td>Aviao</td>\n",
       "      <td>4</td>\n",
       "      <td>5</td>\n",
       "      <td>216</td>\n",
       "      <td>2</td>\n",
       "      <td>baixa</td>\n",
       "      <td>M</td>\n",
       "      <td>59</td>\n",
       "      <td>3088</td>\n",
       "      <td>1</td>\n",
       "      <td>Não Houve Atraso</td>\n",
       "      <td>Não Houve Atraso</td>\n",
       "      <td>Desconto Acima da Media</td>\n",
       "      <td>Entrega no Prazo com Desconto Acima da Media</td>\n",
       "    </tr>\n",
       "    <tr>\n",
       "      <th>2</th>\n",
       "      <td>3</td>\n",
       "      <td>A</td>\n",
       "      <td>Aviao</td>\n",
       "      <td>2</td>\n",
       "      <td>2</td>\n",
       "      <td>183</td>\n",
       "      <td>4</td>\n",
       "      <td>baixa</td>\n",
       "      <td>M</td>\n",
       "      <td>48</td>\n",
       "      <td>3374</td>\n",
       "      <td>1</td>\n",
       "      <td>Não Houve Atraso</td>\n",
       "      <td>Não Houve Atraso</td>\n",
       "      <td>Desconto Acima da Media</td>\n",
       "      <td>Entrega no Prazo com Desconto Acima da Media</td>\n",
       "    </tr>\n",
       "    <tr>\n",
       "      <th>3</th>\n",
       "      <td>4</td>\n",
       "      <td>B</td>\n",
       "      <td>Aviao</td>\n",
       "      <td>3</td>\n",
       "      <td>3</td>\n",
       "      <td>176</td>\n",
       "      <td>4</td>\n",
       "      <td>media</td>\n",
       "      <td>M</td>\n",
       "      <td>10</td>\n",
       "      <td>1177</td>\n",
       "      <td>1</td>\n",
       "      <td>Não Houve Atraso</td>\n",
       "      <td>Não Houve Atraso</td>\n",
       "      <td>Desconto Abaixo da Media</td>\n",
       "      <td>Entrega no Prazo com Desconto Abaixo da Media</td>\n",
       "    </tr>\n",
       "    <tr>\n",
       "      <th>4</th>\n",
       "      <td>5</td>\n",
       "      <td>C</td>\n",
       "      <td>Aviao</td>\n",
       "      <td>2</td>\n",
       "      <td>2</td>\n",
       "      <td>184</td>\n",
       "      <td>3</td>\n",
       "      <td>media</td>\n",
       "      <td>F</td>\n",
       "      <td>46</td>\n",
       "      <td>2484</td>\n",
       "      <td>1</td>\n",
       "      <td>Não Houve Atraso</td>\n",
       "      <td>Não Houve Atraso</td>\n",
       "      <td>Desconto Acima da Media</td>\n",
       "      <td>Entrega no Prazo com Desconto Acima da Media</td>\n",
       "    </tr>\n",
       "  </tbody>\n",
       "</table>\n",
       "</div>"
      ],
      "text/plain": [
       "   ID corredor_armazem modo_envio  numero_chamadas_cliente  avaliacao_cliente  \\\n",
       "0   1                D      Aviao                        4                  2   \n",
       "1   2                F      Aviao                        4                  5   \n",
       "2   3                A      Aviao                        2                  2   \n",
       "3   4                B      Aviao                        3                  3   \n",
       "4   5                C      Aviao                        2                  2   \n",
       "\n",
       "   custo_produto  compras_anteriores prioridade_produto genero  desconto  \\\n",
       "0            177                   3              baixa      F        44   \n",
       "1            216                   2              baixa      M        59   \n",
       "2            183                   4              baixa      M        48   \n",
       "3            176                   4              media      M        10   \n",
       "4            184                   3              media      F        46   \n",
       "\n",
       "   peso_gramas  entregue_no_prazo performance_prioridade_envio  \\\n",
       "0         1233                  1             Não Houve Atraso   \n",
       "1         3088                  1             Não Houve Atraso   \n",
       "2         3374                  1             Não Houve Atraso   \n",
       "3         1177                  1             Não Houve Atraso   \n",
       "4         2484                  1             Não Houve Atraso   \n",
       "\n",
       "  performance_modo_envio            faixa_desconto  \\\n",
       "0       Não Houve Atraso   Desconto Acima da Media   \n",
       "1       Não Houve Atraso   Desconto Acima da Media   \n",
       "2       Não Houve Atraso   Desconto Acima da Media   \n",
       "3       Não Houve Atraso  Desconto Abaixo da Media   \n",
       "4       Não Houve Atraso   Desconto Acima da Media   \n",
       "\n",
       "                      performance_faixa_desconto  \n",
       "0   Entrega no Prazo com Desconto Acima da Media  \n",
       "1   Entrega no Prazo com Desconto Acima da Media  \n",
       "2   Entrega no Prazo com Desconto Acima da Media  \n",
       "3  Entrega no Prazo com Desconto Abaixo da Media  \n",
       "4   Entrega no Prazo com Desconto Acima da Media  "
      ]
     },
     "execution_count": 4,
     "metadata": {},
     "output_type": "execute_result"
    }
   ],
   "source": [
    "# Visualiza\n",
    "df.head()"
   ]
  },
  {
   "cell_type": "code",
   "execution_count": 5,
   "id": "9f8f77e5",
   "metadata": {},
   "outputs": [
    {
     "name": "stdout",
     "output_type": "stream",
     "text": [
      "<class 'pandas.core.frame.DataFrame'>\n",
      "Index: 10643 entries, 0 to 10999\n",
      "Data columns (total 16 columns):\n",
      " #   Column                        Non-Null Count  Dtype \n",
      "---  ------                        --------------  ----- \n",
      " 0   ID                            10643 non-null  int64 \n",
      " 1   corredor_armazem              10643 non-null  object\n",
      " 2   modo_envio                    10643 non-null  object\n",
      " 3   numero_chamadas_cliente       10643 non-null  int64 \n",
      " 4   avaliacao_cliente             10643 non-null  int64 \n",
      " 5   custo_produto                 10643 non-null  int64 \n",
      " 6   compras_anteriores            10643 non-null  int64 \n",
      " 7   prioridade_produto            10643 non-null  object\n",
      " 8   genero                        10643 non-null  object\n",
      " 9   desconto                      10643 non-null  int64 \n",
      " 10  peso_gramas                   10643 non-null  int64 \n",
      " 11  entregue_no_prazo             10643 non-null  int64 \n",
      " 12  performance_prioridade_envio  10643 non-null  object\n",
      " 13  performance_modo_envio        10643 non-null  object\n",
      " 14  faixa_desconto                10643 non-null  object\n",
      " 15  performance_faixa_desconto    10643 non-null  object\n",
      "dtypes: int64(8), object(8)\n",
      "memory usage: 1.4+ MB\n"
     ]
    }
   ],
   "source": [
    "# Info\n",
    "df.info()"
   ]
  },
  {
   "cell_type": "markdown",
   "id": "32c3159e",
   "metadata": {},
   "source": [
    "# <br><br> Label Encoding"
   ]
  },
  {
   "cell_type": "markdown",
   "id": "cc1adfe0",
   "metadata": {},
   "source": [
    "### <br>Método 1"
   ]
  },
  {
   "cell_type": "code",
   "execution_count": 6,
   "id": "b9dfd920",
   "metadata": {},
   "outputs": [
    {
     "data": {
      "text/plain": [
       "prioridade_produto\n",
       "baixa    5174\n",
       "media    4587\n",
       "alta      882\n",
       "Name: count, dtype: int64"
      ]
     },
     "execution_count": 6,
     "metadata": {},
     "output_type": "execute_result"
    }
   ],
   "source": [
    "# Verificando value_counts de prioridade_produto (Variável categórica ordinal)\n",
    "df.prioridade_produto.value_counts()"
   ]
  },
  {
   "cell_type": "code",
   "execution_count": null,
   "id": "17f793da",
   "metadata": {},
   "outputs": [],
   "source": []
  }
 ],
 "metadata": {
  "kernelspec": {
   "display_name": "Python 3 (ipykernel)",
   "language": "python",
   "name": "python3"
  },
  "language_info": {
   "codemirror_mode": {
    "name": "ipython",
    "version": 3
   },
   "file_extension": ".py",
   "mimetype": "text/x-python",
   "name": "python",
   "nbconvert_exporter": "python",
   "pygments_lexer": "ipython3",
   "version": "3.9.7"
  }
 },
 "nbformat": 4,
 "nbformat_minor": 5
}
