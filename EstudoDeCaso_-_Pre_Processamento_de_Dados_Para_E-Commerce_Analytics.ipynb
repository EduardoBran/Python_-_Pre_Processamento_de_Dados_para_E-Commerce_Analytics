{
 "cells": [
  {
   "cell_type": "markdown",
   "id": "c4849ad4",
   "metadata": {},
   "source": [
    "# <font color='blue'><u>Estudo de Caso</u></font>\n",
    "\n",
    "## <font color='blue'>Pré Processamento de Dados Para E-Commerce Analytics</font>"
   ]
  },
  {
   "cell_type": "markdown",
   "id": "bc48bcce",
   "metadata": {},
   "source": [
    "#### Obs: Estaremos utilizando a mesma base de dados para trabalhar em um grande projeto de Ciência de Dados distribuído em 3 capítulos:\n",
    "\n",
    "- Capítulo 4 (Análise Exploratória de Dados) \n",
    "- Capítulo 5 (Engenharia de Atributos)     \n",
    "- Capítulo 6 (Pré-Processamento de Dados)   -> <strong>Atual</strong>"
   ]
  },
  {
   "cell_type": "markdown",
   "id": "3af4afaa",
   "metadata": {},
   "source": [
    "## Definição do Problema\n",
    "\n",
    "Uma empresa internacional de comércio eletrônico (E-commerce) que vende produtos eletrônicos deseja descobrir informações importantes de seu banco de dados de clientes.\n",
    "\n",
    "Os produtos ficam armazenados em um armazém na sede da empresa. Após concluir a compra no web site da empresa, o cliente recebe o produto em casa, em qualquer parte do mundo.  Os  produtos  são  enviados  de  Navio,  Avião  ou  Caminhão,  dependendo  da  região  de entrega.\n",
    "\n",
    "Em cada compra o cliente pode receber um desconto dependendo do peso do produto comprado. Cada cliente pode fazer chamadas ao suporte da empresa no caso de dúvidas ou problemas e após receber o produto o cliente pode deixar uma avaliação sobre a experiência de compra. O único dado pessoal sobre o cliente que está disponível é o gênero.\n",
    "\n",
    "Nosso trabalho neste <u>Estudo de Caso</u> é explorar os dados, compreender como estão organizados, detectar eventuais problemas e analisar os dados por diferentes perspectivas.\n",
    "\n",
    "Trabalharemos com dados fictícios que representam dados reais de uma empresa de E-Commerce. Os dados estão disponíveis na pasta \"dados\". <br><br><br>"
   ]
  },
  {
   "cell_type": "markdown",
   "id": "aa1aa67b",
   "metadata": {},
   "source": [
    "## Objetivo\n",
    "\n",
    "O objetivo do <u>Pré Processamento</u> dos Dados é colocar tudo que for texto na sua representação numérica correspondente. E além disso, precisamos garantir que os dados estejam na mesma escala.\n",
    "\n",
    "Portanto agora aplicaremos **técnicas de pré-processamento** de variáveis categóricas (**Label Encoding** e **One-HotEncoding**) e **Feature Scaling** de variáveis numéricas (**Normalização** e **Padronização**).\n",
    "\n",
    "Assim o objetivo final é pré-processar os dados para a etapa de modelagem preditiva. \n",
    "<br><br><br>"
   ]
  },
  {
   "cell_type": "markdown",
   "id": "0bb7e5f9",
   "metadata": {},
   "source": [
    "## Dicionário de Dados<br><br>\n",
    "\n",
    "<table border=\"2\">\n",
    "  <tr>\n",
    "    <th>Nome da Coluna</th>\n",
    "    <th>Tipo de Dado</th>\n",
    "    <th>Descrição</th>\n",
    "  </tr>\n",
    "  <tr>\n",
    "    <td>ID</td>\n",
    "    <td>Int</td>\n",
    "    <td>ID exclusivo de cada transação.</td>\n",
    "  </tr>\n",
    "  <tr>\n",
    "    <td>corredor_armazem</td>\n",
    "    <td>Character(1)</td>\n",
    "    <td>Letra do corredor do armazém onde o produto está armazenado.</td>\n",
    "  </tr>\n",
    "  <tr>\n",
    "    <td>modo_envio</td>\n",
    "    <td>String</td>\n",
    "    <td>Modo de envio do produto.</td>\n",
    "  </tr>\n",
    "  <tr>\n",
    "    <td>numero_chamadas_cliente</td>\n",
    "    <td>Int</td>\n",
    "    <td>Número de vezes que o cliente acionou o suporte da empresa.</td>\n",
    "  </tr>\n",
    "  <tr>\n",
    "    <td>avaliacao_cliente</td>\n",
    "    <td>Int</td>\n",
    "    <td>Avaliação do cliente sobre a experiência de compra.</td>\n",
    "  </tr>\n",
    "  <tr>\n",
    "    <td>custo_produto</td>\n",
    "    <td>Int</td>\n",
    "    <td>Custo do produto.</td>\n",
    "  </tr>\n",
    "  <tr>\n",
    "    <td>compras_anteriores</td>\n",
    "    <td>Int</td>\n",
    "    <td>Número de vezes que o cliente fez uma compra na empresa.</td>\n",
    "  </tr>\n",
    "  <tr>\n",
    "    <td>prioridade_produto</td>\n",
    "    <td>String</td>\n",
    "    <td>Prioridade de entrega do produto.</td>\n",
    "  </tr>\n",
    "  <tr>\n",
    "    <td>genero</td>\n",
    "    <td>Character(1)</td>\n",
    "    <td>Gênero do cliente (F ou M).</td>\n",
    "  </tr>\n",
    "  <tr>\n",
    "    <td>desconto</td>\n",
    "    <td>Int</td>\n",
    "    <td>Desconto concedido na compra do produto.</td>\n",
    "  </tr>\n",
    "  <tr>\n",
    "    <td>peso_gramas</td>\n",
    "    <td>Int</td>\n",
    "    <td>Peso do produto.</td>\n",
    "  </tr>\n",
    "  <tr>\n",
    "    <td>entregue_no_prazo</td>\n",
    "    <td>Character(1)</td>\n",
    "    <td>Se o produto foi entregue no prazo, sendo 0 (não foi entregue no prazo) ou 1 (foi entregue no prazo).</td>\n",
    "  </tr>\n",
    "</table><br><br><br><br>"
   ]
  },
  {
   "cell_type": "code",
   "execution_count": 1,
   "id": "6e82081d",
   "metadata": {},
   "outputs": [],
   "source": [
    "# Imports\n",
    "import sklearn\n",
    "import numpy as np\n",
    "import pandas as pd\n",
    "from sklearn.preprocessing import LabelEncoder, MinMaxScaler, StandardScaler"
   ]
  },
  {
   "cell_type": "code",
   "execution_count": 2,
   "id": "c9ee3666",
   "metadata": {},
   "outputs": [
    {
     "name": "stdout",
     "output_type": "stream",
     "text": [
      "Author: Data Science Academy\n",
      "\n",
      "sklearn: 0.24.2\n",
      "numpy  : 1.26.4\n",
      "pandas : 2.2.1\n",
      "\n"
     ]
    }
   ],
   "source": [
    "# Versões dos pacotes usados neste jupyter notebook\n",
    "%reload_ext watermark\n",
    "%watermark -a \"Data Science Academy\" --iversions"
   ]
  },
  {
   "cell_type": "markdown",
   "id": "e8ac36b8",
   "metadata": {},
   "source": [
    "## <br>Carregando o Dataset (Gerado ao Final do Estudo de Caso 4)"
   ]
  },
  {
   "cell_type": "code",
   "execution_count": 3,
   "id": "e103d8d2",
   "metadata": {},
   "outputs": [
    {
     "data": {
      "text/plain": [
       "(10643, 16)"
      ]
     },
     "execution_count": 3,
     "metadata": {},
     "output_type": "execute_result"
    }
   ],
   "source": [
    "# Carrega o dataset\n",
    "df = pd.read_csv('dados/df_eng.csv', index_col = 0)\n",
    "\n",
    "df.shape"
   ]
  },
  {
   "cell_type": "code",
   "execution_count": 4,
   "id": "1b521dc9",
   "metadata": {},
   "outputs": [
    {
     "data": {
      "text/html": [
       "<div>\n",
       "<style scoped>\n",
       "    .dataframe tbody tr th:only-of-type {\n",
       "        vertical-align: middle;\n",
       "    }\n",
       "\n",
       "    .dataframe tbody tr th {\n",
       "        vertical-align: top;\n",
       "    }\n",
       "\n",
       "    .dataframe thead th {\n",
       "        text-align: right;\n",
       "    }\n",
       "</style>\n",
       "<table border=\"1\" class=\"dataframe\">\n",
       "  <thead>\n",
       "    <tr style=\"text-align: right;\">\n",
       "      <th></th>\n",
       "      <th>ID</th>\n",
       "      <th>corredor_armazem</th>\n",
       "      <th>modo_envio</th>\n",
       "      <th>numero_chamadas_cliente</th>\n",
       "      <th>avaliacao_cliente</th>\n",
       "      <th>custo_produto</th>\n",
       "      <th>compras_anteriores</th>\n",
       "      <th>prioridade_produto</th>\n",
       "      <th>genero</th>\n",
       "      <th>desconto</th>\n",
       "      <th>peso_gramas</th>\n",
       "      <th>entregue_no_prazo</th>\n",
       "      <th>performance_prioridade_envio</th>\n",
       "      <th>performance_modo_envio</th>\n",
       "      <th>faixa_desconto</th>\n",
       "      <th>performance_faixa_desconto</th>\n",
       "    </tr>\n",
       "  </thead>\n",
       "  <tbody>\n",
       "    <tr>\n",
       "      <th>0</th>\n",
       "      <td>1</td>\n",
       "      <td>D</td>\n",
       "      <td>Aviao</td>\n",
       "      <td>4</td>\n",
       "      <td>2</td>\n",
       "      <td>177</td>\n",
       "      <td>3</td>\n",
       "      <td>baixa</td>\n",
       "      <td>F</td>\n",
       "      <td>44</td>\n",
       "      <td>1233</td>\n",
       "      <td>1</td>\n",
       "      <td>Não Houve Atraso</td>\n",
       "      <td>Não Houve Atraso</td>\n",
       "      <td>Desconto Acima da Media</td>\n",
       "      <td>Entrega no Prazo com Desconto Acima da Media</td>\n",
       "    </tr>\n",
       "    <tr>\n",
       "      <th>1</th>\n",
       "      <td>2</td>\n",
       "      <td>F</td>\n",
       "      <td>Aviao</td>\n",
       "      <td>4</td>\n",
       "      <td>5</td>\n",
       "      <td>216</td>\n",
       "      <td>2</td>\n",
       "      <td>baixa</td>\n",
       "      <td>M</td>\n",
       "      <td>59</td>\n",
       "      <td>3088</td>\n",
       "      <td>1</td>\n",
       "      <td>Não Houve Atraso</td>\n",
       "      <td>Não Houve Atraso</td>\n",
       "      <td>Desconto Acima da Media</td>\n",
       "      <td>Entrega no Prazo com Desconto Acima da Media</td>\n",
       "    </tr>\n",
       "    <tr>\n",
       "      <th>2</th>\n",
       "      <td>3</td>\n",
       "      <td>A</td>\n",
       "      <td>Aviao</td>\n",
       "      <td>2</td>\n",
       "      <td>2</td>\n",
       "      <td>183</td>\n",
       "      <td>4</td>\n",
       "      <td>baixa</td>\n",
       "      <td>M</td>\n",
       "      <td>48</td>\n",
       "      <td>3374</td>\n",
       "      <td>1</td>\n",
       "      <td>Não Houve Atraso</td>\n",
       "      <td>Não Houve Atraso</td>\n",
       "      <td>Desconto Acima da Media</td>\n",
       "      <td>Entrega no Prazo com Desconto Acima da Media</td>\n",
       "    </tr>\n",
       "    <tr>\n",
       "      <th>3</th>\n",
       "      <td>4</td>\n",
       "      <td>B</td>\n",
       "      <td>Aviao</td>\n",
       "      <td>3</td>\n",
       "      <td>3</td>\n",
       "      <td>176</td>\n",
       "      <td>4</td>\n",
       "      <td>media</td>\n",
       "      <td>M</td>\n",
       "      <td>10</td>\n",
       "      <td>1177</td>\n",
       "      <td>1</td>\n",
       "      <td>Não Houve Atraso</td>\n",
       "      <td>Não Houve Atraso</td>\n",
       "      <td>Desconto Abaixo da Media</td>\n",
       "      <td>Entrega no Prazo com Desconto Abaixo da Media</td>\n",
       "    </tr>\n",
       "    <tr>\n",
       "      <th>4</th>\n",
       "      <td>5</td>\n",
       "      <td>C</td>\n",
       "      <td>Aviao</td>\n",
       "      <td>2</td>\n",
       "      <td>2</td>\n",
       "      <td>184</td>\n",
       "      <td>3</td>\n",
       "      <td>media</td>\n",
       "      <td>F</td>\n",
       "      <td>46</td>\n",
       "      <td>2484</td>\n",
       "      <td>1</td>\n",
       "      <td>Não Houve Atraso</td>\n",
       "      <td>Não Houve Atraso</td>\n",
       "      <td>Desconto Acima da Media</td>\n",
       "      <td>Entrega no Prazo com Desconto Acima da Media</td>\n",
       "    </tr>\n",
       "  </tbody>\n",
       "</table>\n",
       "</div>"
      ],
      "text/plain": [
       "   ID corredor_armazem modo_envio  numero_chamadas_cliente  avaliacao_cliente  \\\n",
       "0   1                D      Aviao                        4                  2   \n",
       "1   2                F      Aviao                        4                  5   \n",
       "2   3                A      Aviao                        2                  2   \n",
       "3   4                B      Aviao                        3                  3   \n",
       "4   5                C      Aviao                        2                  2   \n",
       "\n",
       "   custo_produto  compras_anteriores prioridade_produto genero  desconto  \\\n",
       "0            177                   3              baixa      F        44   \n",
       "1            216                   2              baixa      M        59   \n",
       "2            183                   4              baixa      M        48   \n",
       "3            176                   4              media      M        10   \n",
       "4            184                   3              media      F        46   \n",
       "\n",
       "   peso_gramas  entregue_no_prazo performance_prioridade_envio  \\\n",
       "0         1233                  1             Não Houve Atraso   \n",
       "1         3088                  1             Não Houve Atraso   \n",
       "2         3374                  1             Não Houve Atraso   \n",
       "3         1177                  1             Não Houve Atraso   \n",
       "4         2484                  1             Não Houve Atraso   \n",
       "\n",
       "  performance_modo_envio            faixa_desconto  \\\n",
       "0       Não Houve Atraso   Desconto Acima da Media   \n",
       "1       Não Houve Atraso   Desconto Acima da Media   \n",
       "2       Não Houve Atraso   Desconto Acima da Media   \n",
       "3       Não Houve Atraso  Desconto Abaixo da Media   \n",
       "4       Não Houve Atraso   Desconto Acima da Media   \n",
       "\n",
       "                      performance_faixa_desconto  \n",
       "0   Entrega no Prazo com Desconto Acima da Media  \n",
       "1   Entrega no Prazo com Desconto Acima da Media  \n",
       "2   Entrega no Prazo com Desconto Acima da Media  \n",
       "3  Entrega no Prazo com Desconto Abaixo da Media  \n",
       "4   Entrega no Prazo com Desconto Acima da Media  "
      ]
     },
     "execution_count": 4,
     "metadata": {},
     "output_type": "execute_result"
    }
   ],
   "source": [
    "# Visualiza\n",
    "df.head()"
   ]
  },
  {
   "cell_type": "code",
   "execution_count": 5,
   "id": "74670993",
   "metadata": {},
   "outputs": [
    {
     "name": "stdout",
     "output_type": "stream",
     "text": [
      "<class 'pandas.core.frame.DataFrame'>\n",
      "Index: 10643 entries, 0 to 10999\n",
      "Data columns (total 16 columns):\n",
      " #   Column                        Non-Null Count  Dtype \n",
      "---  ------                        --------------  ----- \n",
      " 0   ID                            10643 non-null  int64 \n",
      " 1   corredor_armazem              10643 non-null  object\n",
      " 2   modo_envio                    10643 non-null  object\n",
      " 3   numero_chamadas_cliente       10643 non-null  int64 \n",
      " 4   avaliacao_cliente             10643 non-null  int64 \n",
      " 5   custo_produto                 10643 non-null  int64 \n",
      " 6   compras_anteriores            10643 non-null  int64 \n",
      " 7   prioridade_produto            10643 non-null  object\n",
      " 8   genero                        10643 non-null  object\n",
      " 9   desconto                      10643 non-null  int64 \n",
      " 10  peso_gramas                   10643 non-null  int64 \n",
      " 11  entregue_no_prazo             10643 non-null  int64 \n",
      " 12  performance_prioridade_envio  10643 non-null  object\n",
      " 13  performance_modo_envio        10643 non-null  object\n",
      " 14  faixa_desconto                10643 non-null  object\n",
      " 15  performance_faixa_desconto    10643 non-null  object\n",
      "dtypes: int64(8), object(8)\n",
      "memory usage: 1.4+ MB\n"
     ]
    }
   ],
   "source": [
    "# Info\n",
    "df.info()"
   ]
  },
  {
   "cell_type": "markdown",
   "id": "a1c16d98",
   "metadata": {},
   "source": [
    "# <br><br><br>Pré-Processamento de Variáveis Categóricas (Label Encoding e One-HotEncoding)<br>"
   ]
  },
  {
   "cell_type": "markdown",
   "id": "4bd76ce9",
   "metadata": {},
   "source": [
    "## <br><br> <u>Label Encoding</u>\n",
    "- Label Encoding (codificação de rótulos) é uma técnica de codificação para lidar com variáveis categóricas.\n",
    "- Nesta técnica, a cada rótulo é atribuído um número inteiro exclusivo com base na ordem alfabética.<br>\n",
    "\n",
    "- Na codificação de rótulos em **Python**, substituímos o valor categórico por um valor numérico entre 0 e o número de classes menos 1. Se o valor da variável categórica contiver 5 classes distintas usamos (0, 1, 2, 3 e 4).\n",
    "- Observe que os dados são modificados, mas sem perder a informação que eles representam. Isso pode ser feito de maneira manual (usando dicionários em Python) ou com o algoritmo LabelEncoder do pacote Scikit-Learn.\n",
    "- Veremos os dois métodos na sequência.\n"
   ]
  },
  {
   "cell_type": "markdown",
   "id": "26ef83f8",
   "metadata": {},
   "source": [
    "### <br>Método 1"
   ]
  },
  {
   "cell_type": "markdown",
   "id": "4e146458",
   "metadata": {},
   "source": [
    "#### Variável categórica 'prioridade_produto'"
   ]
  },
  {
   "cell_type": "code",
   "execution_count": 6,
   "id": "49bc8b5e",
   "metadata": {},
   "outputs": [
    {
     "data": {
      "text/plain": [
       "prioridade_produto\n",
       "baixa    5174\n",
       "media    4587\n",
       "alta      882\n",
       "Name: count, dtype: int64"
      ]
     },
     "execution_count": 6,
     "metadata": {},
     "output_type": "execute_result"
    }
   ],
   "source": [
    "# Verificando value_counts de prioridade_produto (foi interpretado como uma variável categórica ordinal)\n",
    "df.prioridade_produto.value_counts()"
   ]
  },
  {
   "cell_type": "code",
   "execution_count": 7,
   "id": "8c8174ab",
   "metadata": {},
   "outputs": [
    {
     "data": {
      "text/plain": [
       "{'baixa': 1, 'media': 2, 'alta': 0}"
      ]
     },
     "execution_count": 7,
     "metadata": {},
     "output_type": "execute_result"
    }
   ],
   "source": [
    "# Criando Dicionário de Mapeamento (a numeração foi escolhida com base na ordem alfabética. 'Alta' começa com 'a')\n",
    "dic_prioridade_produto = {'baixa' : 1, 'media' : 2, 'alta' : 0}\n",
    "dic_prioridade_produto"
   ]
  },
  {
   "cell_type": "code",
   "execution_count": 8,
   "id": "cc391b35",
   "metadata": {},
   "outputs": [],
   "source": [
    "# Aplicando Label Enconding\n",
    "df['prioridade_produto'] = df['prioridade_produto'].map(dic_prioridade_produto)"
   ]
  },
  {
   "cell_type": "code",
   "execution_count": 9,
   "id": "3ecab4c1",
   "metadata": {},
   "outputs": [
    {
     "data": {
      "text/plain": [
       "prioridade_produto\n",
       "1    5174\n",
       "2    4587\n",
       "0     882\n",
       "Name: count, dtype: int64"
      ]
     },
     "execution_count": 9,
     "metadata": {},
     "output_type": "execute_result"
    }
   ],
   "source": [
    "# Verificando value_counts\n",
    "df.prioridade_produto.value_counts()"
   ]
  },
  {
   "cell_type": "code",
   "execution_count": 10,
   "id": "465b711a",
   "metadata": {},
   "outputs": [
    {
     "data": {
      "text/html": [
       "<div>\n",
       "<style scoped>\n",
       "    .dataframe tbody tr th:only-of-type {\n",
       "        vertical-align: middle;\n",
       "    }\n",
       "\n",
       "    .dataframe tbody tr th {\n",
       "        vertical-align: top;\n",
       "    }\n",
       "\n",
       "    .dataframe thead th {\n",
       "        text-align: right;\n",
       "    }\n",
       "</style>\n",
       "<table border=\"1\" class=\"dataframe\">\n",
       "  <thead>\n",
       "    <tr style=\"text-align: right;\">\n",
       "      <th></th>\n",
       "      <th>ID</th>\n",
       "      <th>corredor_armazem</th>\n",
       "      <th>modo_envio</th>\n",
       "      <th>numero_chamadas_cliente</th>\n",
       "      <th>avaliacao_cliente</th>\n",
       "      <th>custo_produto</th>\n",
       "      <th>compras_anteriores</th>\n",
       "      <th>prioridade_produto</th>\n",
       "      <th>genero</th>\n",
       "      <th>desconto</th>\n",
       "      <th>peso_gramas</th>\n",
       "      <th>entregue_no_prazo</th>\n",
       "      <th>performance_prioridade_envio</th>\n",
       "      <th>performance_modo_envio</th>\n",
       "      <th>faixa_desconto</th>\n",
       "      <th>performance_faixa_desconto</th>\n",
       "    </tr>\n",
       "  </thead>\n",
       "  <tbody>\n",
       "    <tr>\n",
       "      <th>0</th>\n",
       "      <td>1</td>\n",
       "      <td>D</td>\n",
       "      <td>Aviao</td>\n",
       "      <td>4</td>\n",
       "      <td>2</td>\n",
       "      <td>177</td>\n",
       "      <td>3</td>\n",
       "      <td>1</td>\n",
       "      <td>F</td>\n",
       "      <td>44</td>\n",
       "      <td>1233</td>\n",
       "      <td>1</td>\n",
       "      <td>Não Houve Atraso</td>\n",
       "      <td>Não Houve Atraso</td>\n",
       "      <td>Desconto Acima da Media</td>\n",
       "      <td>Entrega no Prazo com Desconto Acima da Media</td>\n",
       "    </tr>\n",
       "    <tr>\n",
       "      <th>1</th>\n",
       "      <td>2</td>\n",
       "      <td>F</td>\n",
       "      <td>Aviao</td>\n",
       "      <td>4</td>\n",
       "      <td>5</td>\n",
       "      <td>216</td>\n",
       "      <td>2</td>\n",
       "      <td>1</td>\n",
       "      <td>M</td>\n",
       "      <td>59</td>\n",
       "      <td>3088</td>\n",
       "      <td>1</td>\n",
       "      <td>Não Houve Atraso</td>\n",
       "      <td>Não Houve Atraso</td>\n",
       "      <td>Desconto Acima da Media</td>\n",
       "      <td>Entrega no Prazo com Desconto Acima da Media</td>\n",
       "    </tr>\n",
       "    <tr>\n",
       "      <th>2</th>\n",
       "      <td>3</td>\n",
       "      <td>A</td>\n",
       "      <td>Aviao</td>\n",
       "      <td>2</td>\n",
       "      <td>2</td>\n",
       "      <td>183</td>\n",
       "      <td>4</td>\n",
       "      <td>1</td>\n",
       "      <td>M</td>\n",
       "      <td>48</td>\n",
       "      <td>3374</td>\n",
       "      <td>1</td>\n",
       "      <td>Não Houve Atraso</td>\n",
       "      <td>Não Houve Atraso</td>\n",
       "      <td>Desconto Acima da Media</td>\n",
       "      <td>Entrega no Prazo com Desconto Acima da Media</td>\n",
       "    </tr>\n",
       "    <tr>\n",
       "      <th>3</th>\n",
       "      <td>4</td>\n",
       "      <td>B</td>\n",
       "      <td>Aviao</td>\n",
       "      <td>3</td>\n",
       "      <td>3</td>\n",
       "      <td>176</td>\n",
       "      <td>4</td>\n",
       "      <td>2</td>\n",
       "      <td>M</td>\n",
       "      <td>10</td>\n",
       "      <td>1177</td>\n",
       "      <td>1</td>\n",
       "      <td>Não Houve Atraso</td>\n",
       "      <td>Não Houve Atraso</td>\n",
       "      <td>Desconto Abaixo da Media</td>\n",
       "      <td>Entrega no Prazo com Desconto Abaixo da Media</td>\n",
       "    </tr>\n",
       "    <tr>\n",
       "      <th>4</th>\n",
       "      <td>5</td>\n",
       "      <td>C</td>\n",
       "      <td>Aviao</td>\n",
       "      <td>2</td>\n",
       "      <td>2</td>\n",
       "      <td>184</td>\n",
       "      <td>3</td>\n",
       "      <td>2</td>\n",
       "      <td>F</td>\n",
       "      <td>46</td>\n",
       "      <td>2484</td>\n",
       "      <td>1</td>\n",
       "      <td>Não Houve Atraso</td>\n",
       "      <td>Não Houve Atraso</td>\n",
       "      <td>Desconto Acima da Media</td>\n",
       "      <td>Entrega no Prazo com Desconto Acima da Media</td>\n",
       "    </tr>\n",
       "  </tbody>\n",
       "</table>\n",
       "</div>"
      ],
      "text/plain": [
       "   ID corredor_armazem modo_envio  numero_chamadas_cliente  avaliacao_cliente  \\\n",
       "0   1                D      Aviao                        4                  2   \n",
       "1   2                F      Aviao                        4                  5   \n",
       "2   3                A      Aviao                        2                  2   \n",
       "3   4                B      Aviao                        3                  3   \n",
       "4   5                C      Aviao                        2                  2   \n",
       "\n",
       "   custo_produto  compras_anteriores  prioridade_produto genero  desconto  \\\n",
       "0            177                   3                   1      F        44   \n",
       "1            216                   2                   1      M        59   \n",
       "2            183                   4                   1      M        48   \n",
       "3            176                   4                   2      M        10   \n",
       "4            184                   3                   2      F        46   \n",
       "\n",
       "   peso_gramas  entregue_no_prazo performance_prioridade_envio  \\\n",
       "0         1233                  1             Não Houve Atraso   \n",
       "1         3088                  1             Não Houve Atraso   \n",
       "2         3374                  1             Não Houve Atraso   \n",
       "3         1177                  1             Não Houve Atraso   \n",
       "4         2484                  1             Não Houve Atraso   \n",
       "\n",
       "  performance_modo_envio            faixa_desconto  \\\n",
       "0       Não Houve Atraso   Desconto Acima da Media   \n",
       "1       Não Houve Atraso   Desconto Acima da Media   \n",
       "2       Não Houve Atraso   Desconto Acima da Media   \n",
       "3       Não Houve Atraso  Desconto Abaixo da Media   \n",
       "4       Não Houve Atraso   Desconto Acima da Media   \n",
       "\n",
       "                      performance_faixa_desconto  \n",
       "0   Entrega no Prazo com Desconto Acima da Media  \n",
       "1   Entrega no Prazo com Desconto Acima da Media  \n",
       "2   Entrega no Prazo com Desconto Acima da Media  \n",
       "3  Entrega no Prazo com Desconto Abaixo da Media  \n",
       "4   Entrega no Prazo com Desconto Acima da Media  "
      ]
     },
     "execution_count": 10,
     "metadata": {},
     "output_type": "execute_result"
    }
   ],
   "source": [
    "# Visualizando\n",
    "df.head()"
   ]
  },
  {
   "cell_type": "markdown",
   "id": "06d37229",
   "metadata": {},
   "source": [
    "#### <br>Variável categórica 'modo_envio'"
   ]
  },
  {
   "cell_type": "code",
   "execution_count": 12,
   "id": "7cef4f4c",
   "metadata": {},
   "outputs": [
    {
     "data": {
      "text/plain": [
       "modo_envio\n",
       "Navio       7212\n",
       "Aviao       1728\n",
       "Caminhao    1703\n",
       "Name: count, dtype: int64"
      ]
     },
     "execution_count": 12,
     "metadata": {},
     "output_type": "execute_result"
    }
   ],
   "source": [
    "# Verificando value_counts de modo_envio (também foi interpretado como uma variável categórica ordinal)\n",
    "df.modo_envio.value_counts()"
   ]
  },
  {
   "cell_type": "code",
   "execution_count": 13,
   "id": "3e500b58",
   "metadata": {},
   "outputs": [
    {
     "data": {
      "text/plain": [
       "{'Navio': 0, 'Aviao': 1, 'Caminhao': 2}"
      ]
     },
     "execution_count": 13,
     "metadata": {},
     "output_type": "execute_result"
    }
   ],
   "source": [
    "# Dicionário de mapeamento (aqui foi adotado nao seguir o padrão de ordem alfabética)\n",
    "dic_modo_envio = {'Navio' : 0, 'Aviao' : 1, 'Caminhao' : 2}\n",
    "dic_modo_envio"
   ]
  },
  {
   "cell_type": "code",
   "execution_count": 14,
   "id": "7de028dd",
   "metadata": {},
   "outputs": [],
   "source": [
    "# Aplicando Label Enconding\n",
    "df['modo_envio'] = df['modo_envio'].map(dic_modo_envio)"
   ]
  },
  {
   "cell_type": "code",
   "execution_count": 15,
   "id": "8267d164",
   "metadata": {},
   "outputs": [
    {
     "data": {
      "text/plain": [
       "modo_envio\n",
       "0    7212\n",
       "1    1728\n",
       "2    1703\n",
       "Name: count, dtype: int64"
      ]
     },
     "execution_count": 15,
     "metadata": {},
     "output_type": "execute_result"
    }
   ],
   "source": [
    "# Verificando value_counts\n",
    "df.modo_envio.value_counts()"
   ]
  },
  {
   "cell_type": "code",
   "execution_count": 16,
   "id": "8993fa1a",
   "metadata": {},
   "outputs": [
    {
     "data": {
      "text/html": [
       "<div>\n",
       "<style scoped>\n",
       "    .dataframe tbody tr th:only-of-type {\n",
       "        vertical-align: middle;\n",
       "    }\n",
       "\n",
       "    .dataframe tbody tr th {\n",
       "        vertical-align: top;\n",
       "    }\n",
       "\n",
       "    .dataframe thead th {\n",
       "        text-align: right;\n",
       "    }\n",
       "</style>\n",
       "<table border=\"1\" class=\"dataframe\">\n",
       "  <thead>\n",
       "    <tr style=\"text-align: right;\">\n",
       "      <th></th>\n",
       "      <th>ID</th>\n",
       "      <th>corredor_armazem</th>\n",
       "      <th>modo_envio</th>\n",
       "      <th>numero_chamadas_cliente</th>\n",
       "      <th>avaliacao_cliente</th>\n",
       "      <th>custo_produto</th>\n",
       "      <th>compras_anteriores</th>\n",
       "      <th>prioridade_produto</th>\n",
       "      <th>genero</th>\n",
       "      <th>desconto</th>\n",
       "      <th>peso_gramas</th>\n",
       "      <th>entregue_no_prazo</th>\n",
       "      <th>performance_prioridade_envio</th>\n",
       "      <th>performance_modo_envio</th>\n",
       "      <th>faixa_desconto</th>\n",
       "      <th>performance_faixa_desconto</th>\n",
       "    </tr>\n",
       "  </thead>\n",
       "  <tbody>\n",
       "    <tr>\n",
       "      <th>0</th>\n",
       "      <td>1</td>\n",
       "      <td>D</td>\n",
       "      <td>1</td>\n",
       "      <td>4</td>\n",
       "      <td>2</td>\n",
       "      <td>177</td>\n",
       "      <td>3</td>\n",
       "      <td>1</td>\n",
       "      <td>F</td>\n",
       "      <td>44</td>\n",
       "      <td>1233</td>\n",
       "      <td>1</td>\n",
       "      <td>Não Houve Atraso</td>\n",
       "      <td>Não Houve Atraso</td>\n",
       "      <td>Desconto Acima da Media</td>\n",
       "      <td>Entrega no Prazo com Desconto Acima da Media</td>\n",
       "    </tr>\n",
       "    <tr>\n",
       "      <th>1</th>\n",
       "      <td>2</td>\n",
       "      <td>F</td>\n",
       "      <td>1</td>\n",
       "      <td>4</td>\n",
       "      <td>5</td>\n",
       "      <td>216</td>\n",
       "      <td>2</td>\n",
       "      <td>1</td>\n",
       "      <td>M</td>\n",
       "      <td>59</td>\n",
       "      <td>3088</td>\n",
       "      <td>1</td>\n",
       "      <td>Não Houve Atraso</td>\n",
       "      <td>Não Houve Atraso</td>\n",
       "      <td>Desconto Acima da Media</td>\n",
       "      <td>Entrega no Prazo com Desconto Acima da Media</td>\n",
       "    </tr>\n",
       "    <tr>\n",
       "      <th>2</th>\n",
       "      <td>3</td>\n",
       "      <td>A</td>\n",
       "      <td>1</td>\n",
       "      <td>2</td>\n",
       "      <td>2</td>\n",
       "      <td>183</td>\n",
       "      <td>4</td>\n",
       "      <td>1</td>\n",
       "      <td>M</td>\n",
       "      <td>48</td>\n",
       "      <td>3374</td>\n",
       "      <td>1</td>\n",
       "      <td>Não Houve Atraso</td>\n",
       "      <td>Não Houve Atraso</td>\n",
       "      <td>Desconto Acima da Media</td>\n",
       "      <td>Entrega no Prazo com Desconto Acima da Media</td>\n",
       "    </tr>\n",
       "    <tr>\n",
       "      <th>3</th>\n",
       "      <td>4</td>\n",
       "      <td>B</td>\n",
       "      <td>1</td>\n",
       "      <td>3</td>\n",
       "      <td>3</td>\n",
       "      <td>176</td>\n",
       "      <td>4</td>\n",
       "      <td>2</td>\n",
       "      <td>M</td>\n",
       "      <td>10</td>\n",
       "      <td>1177</td>\n",
       "      <td>1</td>\n",
       "      <td>Não Houve Atraso</td>\n",
       "      <td>Não Houve Atraso</td>\n",
       "      <td>Desconto Abaixo da Media</td>\n",
       "      <td>Entrega no Prazo com Desconto Abaixo da Media</td>\n",
       "    </tr>\n",
       "    <tr>\n",
       "      <th>4</th>\n",
       "      <td>5</td>\n",
       "      <td>C</td>\n",
       "      <td>1</td>\n",
       "      <td>2</td>\n",
       "      <td>2</td>\n",
       "      <td>184</td>\n",
       "      <td>3</td>\n",
       "      <td>2</td>\n",
       "      <td>F</td>\n",
       "      <td>46</td>\n",
       "      <td>2484</td>\n",
       "      <td>1</td>\n",
       "      <td>Não Houve Atraso</td>\n",
       "      <td>Não Houve Atraso</td>\n",
       "      <td>Desconto Acima da Media</td>\n",
       "      <td>Entrega no Prazo com Desconto Acima da Media</td>\n",
       "    </tr>\n",
       "  </tbody>\n",
       "</table>\n",
       "</div>"
      ],
      "text/plain": [
       "   ID corredor_armazem  modo_envio  numero_chamadas_cliente  \\\n",
       "0   1                D           1                        4   \n",
       "1   2                F           1                        4   \n",
       "2   3                A           1                        2   \n",
       "3   4                B           1                        3   \n",
       "4   5                C           1                        2   \n",
       "\n",
       "   avaliacao_cliente  custo_produto  compras_anteriores  prioridade_produto  \\\n",
       "0                  2            177                   3                   1   \n",
       "1                  5            216                   2                   1   \n",
       "2                  2            183                   4                   1   \n",
       "3                  3            176                   4                   2   \n",
       "4                  2            184                   3                   2   \n",
       "\n",
       "  genero  desconto  peso_gramas  entregue_no_prazo  \\\n",
       "0      F        44         1233                  1   \n",
       "1      M        59         3088                  1   \n",
       "2      M        48         3374                  1   \n",
       "3      M        10         1177                  1   \n",
       "4      F        46         2484                  1   \n",
       "\n",
       "  performance_prioridade_envio performance_modo_envio  \\\n",
       "0             Não Houve Atraso       Não Houve Atraso   \n",
       "1             Não Houve Atraso       Não Houve Atraso   \n",
       "2             Não Houve Atraso       Não Houve Atraso   \n",
       "3             Não Houve Atraso       Não Houve Atraso   \n",
       "4             Não Houve Atraso       Não Houve Atraso   \n",
       "\n",
       "             faixa_desconto                     performance_faixa_desconto  \n",
       "0   Desconto Acima da Media   Entrega no Prazo com Desconto Acima da Media  \n",
       "1   Desconto Acima da Media   Entrega no Prazo com Desconto Acima da Media  \n",
       "2   Desconto Acima da Media   Entrega no Prazo com Desconto Acima da Media  \n",
       "3  Desconto Abaixo da Media  Entrega no Prazo com Desconto Abaixo da Media  \n",
       "4   Desconto Acima da Media   Entrega no Prazo com Desconto Acima da Media  "
      ]
     },
     "execution_count": 16,
     "metadata": {},
     "output_type": "execute_result"
    }
   ],
   "source": [
    "# Visualizando\n",
    "df.head()"
   ]
  },
  {
   "cell_type": "markdown",
   "id": "70a93340",
   "metadata": {},
   "source": [
    "### <br><br>Método 2"
   ]
  },
  {
   "cell_type": "markdown",
   "id": "028a0b2f",
   "metadata": {},
   "source": [
    "#### Variável categórica 'genero'"
   ]
  },
  {
   "cell_type": "code",
   "execution_count": 17,
   "id": "42aa862b",
   "metadata": {},
   "outputs": [
    {
     "data": {
      "text/plain": [
       "genero\n",
       "F    5357\n",
       "M    5286\n",
       "Name: count, dtype: int64"
      ]
     },
     "execution_count": 17,
     "metadata": {},
     "output_type": "execute_result"
    }
   ],
   "source": [
    "# Verificando value_counts de genero (foi interpretado como uma variável categórica nominal)\n",
    "df.genero.value_counts()"
   ]
  },
  {
   "cell_type": "code",
   "execution_count": 18,
   "id": "3b184bb1",
   "metadata": {},
   "outputs": [],
   "source": [
    "# Cria o objeto Encoder\n",
    "le = LabelEncoder()"
   ]
  },
  {
   "cell_type": "code",
   "execution_count": 19,
   "id": "75aaf0bd",
   "metadata": {},
   "outputs": [
    {
     "data": {
      "text/plain": [
       "LabelEncoder()"
      ]
     },
     "execution_count": 19,
     "metadata": {},
     "output_type": "execute_result"
    }
   ],
   "source": [
    "# Treina o objeto (Normalmente só fazemos isso somente com os dados de treino)\n",
    "le.fit(df.genero)"
   ]
  },
  {
   "cell_type": "code",
   "execution_count": 20,
   "id": "2274460e",
   "metadata": {},
   "outputs": [
    {
     "data": {
      "text/plain": [
       "['F', 'M']"
      ]
     },
     "execution_count": 20,
     "metadata": {},
     "output_type": "execute_result"
    }
   ],
   "source": [
    "# Ao treinar o objeto, ele aprendeu o padrão da variável categṕrica e assim identificou as classes\n",
    "list(le.classes_)"
   ]
  },
  {
   "cell_type": "code",
   "execution_count": 21,
   "id": "89564163",
   "metadata": {},
   "outputs": [],
   "source": [
    "# Aplicamos o objeto encoder treinado \n",
    "# (fazemos isso em dados de treino e teste e também em novos dados usados no modelo)\n",
    "df.genero = le.transform(df.genero)"
   ]
  },
  {
   "cell_type": "code",
   "execution_count": 22,
   "id": "e4632fc2",
   "metadata": {},
   "outputs": [
    {
     "data": {
      "text/plain": [
       "genero\n",
       "0    5357\n",
       "1    5286\n",
       "Name: count, dtype: int64"
      ]
     },
     "execution_count": 22,
     "metadata": {},
     "output_type": "execute_result"
    }
   ],
   "source": [
    "# Verificando value_counts de genero (foi interpretado como uma variável categórica nominal)\n",
    "df.genero.value_counts()"
   ]
  },
  {
   "cell_type": "markdown",
   "id": "b017e867",
   "metadata": {},
   "source": [
    "## <br><br> <u>One-Hot Encoding</u>\n",
    "\n",
    "-"
   ]
  },
  {
   "cell_type": "markdown",
   "id": "bf7dc525",
   "metadata": {},
   "source": [
    "#### Variáve categórica 'corredor_armazem'"
   ]
  },
  {
   "cell_type": "code",
   "execution_count": null,
   "id": "76a6427d",
   "metadata": {},
   "outputs": [],
   "source": [
    "# Verificando value_counts de prioridade_produto (foi interpretado como uma variável categórica nominal)\n",
    "df.corredor_armazem.value_counts()"
   ]
  },
  {
   "cell_type": "code",
   "execution_count": null,
   "id": "4c9263a4",
   "metadata": {},
   "outputs": [],
   "source": []
  },
  {
   "cell_type": "markdown",
   "id": "c265d19b",
   "metadata": {},
   "source": [
    "# <br><br><br><br><br>Pré-Processamento de Variáveis Numéricas (Fature Scaling)<br>"
   ]
  },
  {
   "cell_type": "markdown",
   "id": "5a5a39bc",
   "metadata": {},
   "source": [
    "## <br><br> Fature Scaling"
   ]
  },
  {
   "cell_type": "code",
   "execution_count": null,
   "id": "2939b1a8",
   "metadata": {},
   "outputs": [],
   "source": []
  },
  {
   "cell_type": "code",
   "execution_count": null,
   "id": "9ffb0f06",
   "metadata": {},
   "outputs": [],
   "source": []
  },
  {
   "cell_type": "code",
   "execution_count": null,
   "id": "e37dae9d",
   "metadata": {},
   "outputs": [],
   "source": []
  },
  {
   "cell_type": "markdown",
   "id": "6227fdef",
   "metadata": {},
   "source": [
    "# <br><br><br><br><br><br><br><br><br><br><br><br><br><br><br><br>EXEMPLO SIMPLES\n",
    "\n",
    "import pandas as pd\n",
    "from sklearn.preprocessing import LabelEncoder, OneHotEncoder, StandardScaler, MinMaxScaler\n",
    "\n",
    "# 1. Carregar os dados\n",
    "dados = pd.read_csv('caminho/do/arquivo.csv')\n",
    "\n",
    "# 2. Identificar e tratar valores faltantes\n",
    "# Verificar se há valores faltantes em alguma coluna\n",
    "valores_faltantes = dados.isnull().sum()\n",
    "print(\"Valores faltantes por coluna:\\n\", valores_faltantes)\n",
    "\n",
    "# Se houver valores faltantes, realizar tratamento adequado, como preenchimento com a média ou moda\n",
    "\n",
    "# 3. Aplicar Label Encoding e/ou One-Hot Encoding para variáveis categóricas\n",
    "# Identificar as variáveis categóricas\n",
    "variaveis_categoricas = ['corredor_armazem', 'modo_envio', 'prioridade_produto', 'genero']\n",
    "\n",
    "# Aplicar Label Encoding para variáveis com baixa cardinalidade\n",
    "le = LabelEncoder()\n",
    "for coluna in variaveis_categoricas:\n",
    "    if len(dados[coluna].unique()) <= 2:  # Se tiver apenas 2 categorias, usar Label Encoding\n",
    "        dados[coluna] = le.fit_transform(dados[coluna])\n",
    "\n",
    "# Aplicar One-Hot Encoding para variáveis com alta cardinalidade\n",
    "dados = pd.get_dummies(dados, columns=['corredor_armazem', 'modo_envio', 'prioridade_produto'])\n",
    "\n",
    "# 4. Aplicar Feature Scaling para variáveis numéricas\n",
    "scaler = MinMaxScaler()  # Pode-se usar StandardScaler também, dependendo da distribuição dos dados\n",
    "variaveis_numericas = ['numero_chamadas_cliente', 'avaliacao_cliente', 'custo_produto',\n",
    "                       'compras_anteriores', 'desconto', 'peso_gramas']\n",
    "dados[variaveis_numericas] = scaler.fit_transform(dados[variaveis_numericas])\n",
    "\n",
    "# Salvar os dados pré-processados em um novo arquivo CSV\n",
    "dados.to_csv('dados_preprocessados.csv', index=False)"
   ]
  },
  {
   "cell_type": "code",
   "execution_count": null,
   "id": "215de3c5",
   "metadata": {},
   "outputs": [],
   "source": []
  }
 ],
 "metadata": {
  "kernelspec": {
   "display_name": "Python 3 (ipykernel)",
   "language": "python",
   "name": "python3"
  },
  "language_info": {
   "codemirror_mode": {
    "name": "ipython",
    "version": 3
   },
   "file_extension": ".py",
   "mimetype": "text/x-python",
   "name": "python",
   "nbconvert_exporter": "python",
   "pygments_lexer": "ipython3",
   "version": "3.9.7"
  }
 },
 "nbformat": 4,
 "nbformat_minor": 5
}
